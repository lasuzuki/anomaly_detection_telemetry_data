{
 "cells": [
  {
   "cell_type": "markdown",
   "id": "2e6e91d3-0f17-4ea6-b6cf-18c8076d7c81",
   "metadata": {
    "tags": []
   },
   "source": [
    "## Deep Neural Network for Anomaly Detection in IoT Data\n",
    "### By Lara Suzuki"
   ]
  },
  {
   "cell_type": "markdown",
   "id": "28e55728-168c-4405-bd53-c9db3696a13d",
   "metadata": {},
   "source": [
    "<table class=\"tfo-notebook-buttons\" align=\"left\">\n",
    "  <td>\n",
    "    <a target=\"_blank\" href=\"https://github.com/lasuzuki\"><img src=\"https://www.tensorflow.org/images/GitHub-Mark-32px.png\" />View source on GitHub</a>\n",
    "  </td>\n",
    "</table>"
   ]
  },
  {
   "cell_type": "code",
   "execution_count": 118,
   "id": "5ed08925-9dd0-424f-b998-d44bb4bd0bc8",
   "metadata": {},
   "outputs": [],
   "source": [
    "import numpy as np\n",
    "import pandas as pd\n",
    "import tensorflow as tf\n",
    "from tensorflow.keras import layers\n",
    "from matplotlib import pyplot as plt\n",
    "from datetime import datetime\n",
    "import seaborn as sns\n",
    "from google.cloud import bigquery\n",
    "import math"
   ]
  },
  {
   "cell_type": "code",
   "execution_count": 119,
   "id": "16f82183-b852-4538-bbc1-d6812199d472",
   "metadata": {},
   "outputs": [],
   "source": [
    "pd.options.display.max_rows = 10\n",
    "pd.options.display.float_format = \"{:.1f}\".format"
   ]
  },
  {
   "cell_type": "code",
   "execution_count": 120,
   "id": "23b910a5-b19e-48d9-8146-37bd6d843501",
   "metadata": {},
   "outputs": [],
   "source": [
    "PROJECT_ID = \"your-project-id\"\n",
    "TIMESTAMP = datetime.now().strftime(\"%Y%m%d%H%M%S\")\n",
    "GOOGLE_APPLICATION_CREDENTIALS = \"your-credential.json\"\n",
    "BUCKET_NAME = \"gs://your-bucket\"\n",
    "REGION = \"your-region\""
   ]
  },
  {
   "cell_type": "markdown",
   "id": "f13c0c77-d5f5-45ce-9344-1320f8ae4062",
   "metadata": {
    "tags": []
   },
   "source": [
    "### Selecting real time data persisted in BigQuery"
   ]
  },
  {
   "cell_type": "code",
   "execution_count": 121,
   "id": "88146dc7-5907-434a-af91-eab55143ac8f",
   "metadata": {},
   "outputs": [],
   "source": [
    "bqclient = bigquery.Client()\n",
    "query_string = \"\"\"\n",
    "SELECT \n",
    "    ts, \n",
    "    temperature, \n",
    "    pressure, \n",
    "    humidity, \n",
    "    x, y, z, \n",
    "    CASE \n",
    "        WHEN label = 'True' \n",
    "        THEN 1 \n",
    "        ELSE 0 \n",
    "    END AS label\n",
    "FROM `your-project.your_database.your_table`\n",
    "WHERE label IS NOT NULL\n",
    "\"\"\"\n",
    "df_iot = (\n",
    "    bqclient.query(query_string)\n",
    "    .result()\n",
    "    .to_dataframe()\n",
    ")"
   ]
  },
  {
   "cell_type": "markdown",
   "id": "5b0555ad-ed06-44ef-a52f-b8681887a5e0",
   "metadata": {
    "tags": []
   },
   "source": [
    "### Splitting data into train and test sets"
   ]
  },
  {
   "cell_type": "code",
   "execution_count": 122,
   "id": "f4eb0691-68d3-4bb6-931d-55ac07edd528",
   "metadata": {},
   "outputs": [],
   "source": [
    "def sample_first_prows(data, perc=0.8):\n",
    "    import pandas as pd\n",
    "    return data.head(int(len(data)*(perc)))\n",
    "\n",
    "df_train = sample_first_prows(df_iot)\n",
    "df_test = df_iot.iloc[max(df_train.index):]"
   ]
  },
  {
   "cell_type": "markdown",
   "id": "53775d4d-0453-4211-82bc-7cd5910f4f60",
   "metadata": {
    "tags": []
   },
   "source": [
    "### Normalising the values"
   ]
  },
  {
   "cell_type": "code",
   "execution_count": 123,
   "id": "9192b38f-db6b-416f-8406-b9a129166039",
   "metadata": {},
   "outputs": [],
   "source": [
    "df_train_timestamp = df_train[\"ts\"]\n",
    "df_train_label = df_train[\"label\"]\n",
    "df_train_clear = df_train.drop(['ts', 'label'], axis=1)\n",
    "df_train_mean = df_train_clear.mean()\n",
    "df_train_std = df_train_clear.std()\n",
    "df_train_norm = (df_train_clear - df_train_mean)/df_train_std\n",
    "df_train_result = pd.concat([df_train_norm, df_train_label], axis=1)\n",
    "\n",
    "df_test_timestamp = df_test[\"ts\"]\n",
    "df_test_label = df_test[\"label\"]\n",
    "df_test_clear = df_test.drop(['ts', 'label'], axis=1)\n",
    "df_test_mean = df_test_clear.mean()\n",
    "df_test_std = df_test_clear.std()\n",
    "df_test_norm = (df_test_clear - df_test_mean)/df_test_std\n",
    "df_test_result = pd.concat([df_test_norm, df_test_label], axis=1)"
   ]
  },
  {
   "cell_type": "markdown",
   "id": "fadd180f-83a7-41a3-b94c-6041218b5a2e",
   "metadata": {
    "tags": []
   },
   "source": [
    "### Represent data in a feature layer"
   ]
  },
  {
   "cell_type": "code",
   "execution_count": 124,
   "id": "fda294f7-7ee7-47a0-b170-f04f04293153",
   "metadata": {},
   "outputs": [],
   "source": [
    "feature_columns = []\n",
    "temperature = tf.feature_column.numeric_column(\"temperature\")\n",
    "feature_columns.append(temperature)\n",
    "pressure = tf.feature_column.numeric_column(\"pressure\")\n",
    "feature_columns.append(pressure)\n",
    "humidity = tf.feature_column.numeric_column(\"humidity\")\n",
    "feature_columns.append(humidity)\n",
    "x = tf.feature_column.numeric_column(\"x\")\n",
    "feature_columns.append(x)\n",
    "y = tf.feature_column.numeric_column(\"y\")\n",
    "feature_columns.append(y)\n",
    "z = tf.feature_column.numeric_column(\"z\")\n",
    "feature_columns.append(z)\n",
    "feature_layer = tf.keras.layers.DenseFeatures(feature_columns)"
   ]
  },
  {
   "cell_type": "markdown",
   "id": "6c67221c-3760-4f6f-a2ef-f5a40b6cf40f",
   "metadata": {
    "tags": []
   },
   "source": [
    "### Build a deep neural network model"
   ]
  },
  {
   "cell_type": "markdown",
   "id": "ad495300-158d-4a55-a944-8ad83e11b0e5",
   "metadata": {
    "tags": []
   },
   "source": [
    "#### Define the plotting loss curve function"
   ]
  },
  {
   "cell_type": "code",
   "execution_count": 125,
   "id": "f0e876a3-cae7-48c8-af10-596ea2996941",
   "metadata": {},
   "outputs": [],
   "source": [
    "def plot_the_loss_curve(epochs, mse):\n",
    "    plt.figure()\n",
    "    plt.xlabel(\"Epoch\")\n",
    "    plt.ylabel(\"Mean Squared Error\")\n",
    "    plt.plot(epochs, mse, label=\"Loss\")\n",
    "    plt.legend()\n",
    "    plt.ylim([mse.min()*0.95, mse.max() * 1.03])\n",
    "    plt.show()"
   ]
  },
  {
   "cell_type": "markdown",
   "id": "7ad51825-a4e2-4ab3-9e23-4fb229a087f8",
   "metadata": {},
   "source": [
    "#### Define the plotting the model function"
   ]
  },
  {
   "cell_type": "code",
   "execution_count": 126,
   "id": "97ca482f-8363-4f4e-ba36-377a235cd81d",
   "metadata": {},
   "outputs": [],
   "source": [
    "def plot_curve(epochs, hist, list_of_metrics):\n",
    "    plt.figure()\n",
    "    plt.xlabel(\"Epoch\")\n",
    "    plt.ylabel(\"Value\")\n",
    "\n",
    "    for m in list_of_metrics:\n",
    "        x = hist.history[m]\n",
    "    plt.plot(epochs[1:], x[1:], label=m)\n",
    "    plt.legend()"
   ]
  },
  {
   "cell_type": "markdown",
   "id": "6af8c7df-03b4-412d-8d13-7f3819d6c9f3",
   "metadata": {},
   "source": [
    "#### Define the deep neural network model creation function"
   ]
  },
  {
   "cell_type": "code",
   "execution_count": 163,
   "id": "f3431c46-0b18-4aab-95a0-d6604cf6d22b",
   "metadata": {},
   "outputs": [],
   "source": [
    "def create_model(learning_rate, feature_layer):\n",
    "    model = tf.keras.models.Sequential()\n",
    "    model.add(feature_layer)\n",
    "    model.add(tf.keras.layers.Dense(units = 10,\n",
    "                                    activation='relu',\n",
    "                                    kernel_regularizer=tf.keras.regularizers.l2(l=0.01),\n",
    "                                    name='Hidden1'\n",
    "                                    ))\n",
    "    \n",
    "    model.add(tf.keras.layers.Dropout(rate=0.15))\n",
    "              \n",
    "    model.add(tf.keras.layers.Dense(units = 5,\n",
    "                                    activation='relu',\n",
    "                                    name='Hidden2'\n",
    "                                    ))\n",
    "              \n",
    "    model.add(tf.keras.layers.Dense(units = 1,\n",
    "                                    activation='relu',\n",
    "                                    name='Output'\n",
    "                                    ))\n",
    "              \n",
    "    model.compile(optimizer=tf.keras.optimizers.Adam(learning_rate=learning_rate),\n",
    "                  loss=\"mean_squared_error\",\n",
    "                  metrics=[tf.keras.metrics.MeanSquaredError(), 'accuracy']\n",
    "                )\n",
    "              \n",
    "    return model"
   ]
  },
  {
   "cell_type": "markdown",
   "id": "68f8d8db-2a67-485f-9224-241fee975fdb",
   "metadata": {},
   "source": [
    "#### Define the deep neural network model training function"
   ]
  },
  {
   "cell_type": "code",
   "execution_count": 164,
   "id": "ddbbc0b9-3b3e-4621-a345-cdde07015295",
   "metadata": {},
   "outputs": [],
   "source": [
    "def train_model(model, dataset, epochs, label_name, batch_size=None):\n",
    "        features = {name:np.array(value) for name, value in dataset.items()}\n",
    "        label = np.array(features.pop(label_name))\n",
    "        history = model.fit(x=features, y=label, batch_size=batch_size, epochs=epochs, shuffle=True)\n",
    "        epochs = history.epoch\n",
    "        hist = pd.DataFrame(history.history)\n",
    "        mse = hist[\"mean_squared_error\"]\n",
    "        return epochs, mse, history"
   ]
  },
  {
   "cell_type": "markdown",
   "id": "2f299eb9-7711-4a2f-b3d9-ed6dbad02cf7",
   "metadata": {},
   "source": [
    "#### Call the functions to build and train a deep neural network"
   ]
  },
  {
   "cell_type": "code",
   "execution_count": 165,
   "id": "3f215264-6740-4676-88dc-1b530d5f8a01",
   "metadata": {},
   "outputs": [
    {
     "name": "stdout",
     "output_type": "stream",
     "text": [
      "Epoch 1/20\n",
      "WARNING:tensorflow:Layers in a Sequential model should only have a single input tensor, but we receive a <class 'dict'> input: {'temperature': <tf.Tensor 'ExpandDims_2:0' shape=(None, 1) dtype=float32>, 'pressure': <tf.Tensor 'ExpandDims_1:0' shape=(None, 1) dtype=float32>, 'humidity': <tf.Tensor 'ExpandDims:0' shape=(None, 1) dtype=float32>, 'x': <tf.Tensor 'ExpandDims_3:0' shape=(None, 1) dtype=float32>, 'y': <tf.Tensor 'ExpandDims_4:0' shape=(None, 1) dtype=float32>, 'z': <tf.Tensor 'ExpandDims_5:0' shape=(None, 1) dtype=float32>}\n",
      "Consider rewriting this model with the Functional API.\n",
      "WARNING:tensorflow:Layers in a Sequential model should only have a single input tensor, but we receive a <class 'dict'> input: {'temperature': <tf.Tensor 'ExpandDims_2:0' shape=(None, 1) dtype=float32>, 'pressure': <tf.Tensor 'ExpandDims_1:0' shape=(None, 1) dtype=float32>, 'humidity': <tf.Tensor 'ExpandDims:0' shape=(None, 1) dtype=float32>, 'x': <tf.Tensor 'ExpandDims_3:0' shape=(None, 1) dtype=float32>, 'y': <tf.Tensor 'ExpandDims_4:0' shape=(None, 1) dtype=float32>, 'z': <tf.Tensor 'ExpandDims_5:0' shape=(None, 1) dtype=float32>}\n",
      "Consider rewriting this model with the Functional API.\n",
      "135/135 [==============================] - 1s 5ms/step - loss: 0.5126 - mean_squared_error: 0.4400 - accuracy: 0.4758\n",
      "Epoch 2/20\n",
      "135/135 [==============================] - 1s 6ms/step - loss: 0.2190 - mean_squared_error: 0.1579 - accuracy: 0.7759\n",
      "Epoch 3/20\n",
      "135/135 [==============================] - 1s 6ms/step - loss: 0.1497 - mean_squared_error: 0.0971 - accuracy: 0.8928\n",
      "Epoch 4/20\n",
      "135/135 [==============================] - 0s 3ms/step - loss: 0.1233 - mean_squared_error: 0.0775 - accuracy: 0.9322\n",
      "Epoch 5/20\n",
      "135/135 [==============================] - 1s 5ms/step - loss: 0.0995 - mean_squared_error: 0.0598 - accuracy: 0.9404\n",
      "Epoch 6/20\n",
      "135/135 [==============================] - 1s 4ms/step - loss: 0.0783 - mean_squared_error: 0.0436 - accuracy: 0.9464\n",
      "Epoch 7/20\n",
      "135/135 [==============================] - 1s 6ms/step - loss: 0.0724 - mean_squared_error: 0.0421 - accuracy: 0.9471\n",
      "Epoch 8/20\n",
      "135/135 [==============================] - 1s 4ms/step - loss: 0.0651 - mean_squared_error: 0.0384 - accuracy: 0.9561\n",
      "Epoch 9/20\n",
      "135/135 [==============================] - 1s 4ms/step - loss: 0.0619 - mean_squared_error: 0.0382 - accuracy: 0.9590\n",
      "Epoch 10/20\n",
      "135/135 [==============================] - 1s 4ms/step - loss: 0.0589 - mean_squared_error: 0.0377 - accuracy: 0.9546\n",
      "Epoch 11/20\n",
      "135/135 [==============================] - 0s 3ms/step - loss: 0.0508 - mean_squared_error: 0.0318 - accuracy: 0.9650\n",
      "Epoch 12/20\n",
      "135/135 [==============================] - 1s 4ms/step - loss: 0.0478 - mean_squared_error: 0.0308 - accuracy: 0.9613\n",
      "Epoch 13/20\n",
      "135/135 [==============================] - 0s 3ms/step - loss: 0.0440 - mean_squared_error: 0.0284 - accuracy: 0.9695\n",
      "Epoch 14/20\n",
      "135/135 [==============================] - 0s 3ms/step - loss: 0.0405 - mean_squared_error: 0.0264 - accuracy: 0.9695\n",
      "Epoch 15/20\n",
      "135/135 [==============================] - 0s 4ms/step - loss: 0.0427 - mean_squared_error: 0.0297 - accuracy: 0.9643\n",
      "Epoch 16/20\n",
      "135/135 [==============================] - 0s 3ms/step - loss: 0.0389 - mean_squared_error: 0.0271 - accuracy: 0.9687\n",
      "Epoch 17/20\n",
      "135/135 [==============================] - 0s 3ms/step - loss: 0.0345 - mean_squared_error: 0.0236 - accuracy: 0.9687\n",
      "Epoch 18/20\n",
      "135/135 [==============================] - 0s 3ms/step - loss: 0.0339 - mean_squared_error: 0.0238 - accuracy: 0.9687\n",
      "Epoch 19/20\n",
      "135/135 [==============================] - 0s 3ms/step - loss: 0.0312 - mean_squared_error: 0.0217 - accuracy: 0.9769\n",
      "Epoch 20/20\n",
      "135/135 [==============================] - 0s 4ms/step - loss: 0.0296 - mean_squared_error: 0.0208 - accuracy: 0.9792\n"
     ]
    },
    {
     "data": {
      "image/png": "[encoded data removed]",
      "text/plain": [
       "<Figure size 432x288 with 1 Axes>"
      ]
     },
     "metadata": {
      "needs_background": "light"
     },
     "output_type": "display_data"
    },
    {
     "data": {
      "image/png": "[encoded data removed]",
      "text/plain": [
       "<Figure size 432x288 with 1 Axes>"
      ]
     },
     "metadata": {
      "needs_background": "light"
     },
     "output_type": "display_data"
    }
   ],
   "source": [
    "learning_rate = 0.001\n",
    "epochs = 20\n",
    "batch_size = 10\n",
    "label_name = \"label\"\n",
    "model = create_model(learning_rate, feature_layer)\n",
    "epochs, mse, hist = train_model(model, df_train_result, epochs, label_name, batch_size)\n",
    "plot_the_loss_curve(epochs, mse)\n",
    "list_of_metrics_to_plot = ['accuracy'] \n",
    "plot_curve(epochs, hist, list_of_metrics_to_plot)"
   ]
  },
  {
   "cell_type": "markdown",
   "id": "84f25788-3258-41d9-af3e-aadee38ace42",
   "metadata": {},
   "source": [
    "#### Call the functions to test the deep neural network"
   ]
  },
  {
   "cell_type": "code",
   "execution_count": 166,
   "id": "b6b13694-74aa-4f91-9711-825a9758e779",
   "metadata": {},
   "outputs": [
    {
     "name": "stdout",
     "output_type": "stream",
     "text": [
      "WARNING:tensorflow:Layers in a Sequential model should only have a single input tensor, but we receive a <class 'dict'> input: {'temperature': <tf.Tensor 'ExpandDims_2:0' shape=(None, 1) dtype=float32>, 'pressure': <tf.Tensor 'ExpandDims_1:0' shape=(None, 1) dtype=float32>, 'humidity': <tf.Tensor 'ExpandDims:0' shape=(None, 1) dtype=float32>, 'x': <tf.Tensor 'ExpandDims_3:0' shape=(None, 1) dtype=float32>, 'y': <tf.Tensor 'ExpandDims_4:0' shape=(None, 1) dtype=float32>, 'z': <tf.Tensor 'ExpandDims_5:0' shape=(None, 1) dtype=float32>}\n",
      "Consider rewriting this model with the Functional API.\n",
      "34/34 [==============================] - 0s 4ms/step - loss: 0.7535 - mean_squared_error: 0.7450 - accuracy: 0.0000e+00\n",
      "[0.7535382509231567, 0.7449658513069153, 0.0]\n",
      "WARNING:tensorflow:Layers in a Sequential model should only have a single input tensor, but we receive a <class 'dict'> input: {'temperature': <tf.Tensor 'ExpandDims_2:0' shape=(None, 1) dtype=float32>, 'pressure': <tf.Tensor 'ExpandDims_1:0' shape=(None, 1) dtype=float32>, 'humidity': <tf.Tensor 'ExpandDims:0' shape=(None, 1) dtype=float32>, 'x': <tf.Tensor 'ExpandDims_3:0' shape=(None, 1) dtype=float32>, 'y': <tf.Tensor 'ExpandDims_4:0' shape=(None, 1) dtype=float32>, 'z': <tf.Tensor 'ExpandDims_5:0' shape=(None, 1) dtype=float32>}\n",
      "Consider rewriting this model with the Functional API.\n",
      "Predicted output: 0\n",
      "Actual output: 0 \n",
      "\n",
      "Predicted output: 0\n",
      "Actual output: 0 \n",
      "\n",
      "Predicted output: 0\n",
      "Actual output: 0 \n",
      "\n",
      "Predicted output: 0\n",
      "Actual output: 0 \n",
      "\n",
      "Predicted output: 0\n",
      "Actual output: 0 \n",
      "\n",
      "Predicted output: 0\n",
      "Actual output: 0 \n",
      "\n",
      "Predicted output: 0\n",
      "Actual output: 0 \n",
      "\n",
      "Predicted output: 0\n",
      "Actual output: 0 \n",
      "\n",
      "Predicted output: 0\n",
      "Actual output: 0 \n",
      "\n",
      "Predicted output: 0\n",
      "Actual output: 0 \n",
      "\n"
     ]
    }
   ],
   "source": [
    "test_features = {name:np.array(value) for name, value in df_test_result.items()}\n",
    "test_label = np.array(test_features.pop(label_name))\n",
    "results = model.evaluate(x=test_features, y=test_label, batch_size=batch_size)\n",
    "print(results)\n",
    "predict = model.predict(test_features)\n",
    "print_predict = predict[:10]\n",
    "for i, val in enumerate(print_predict):\n",
    "    print('Predicted output: {}'.format(math.floor(val[0])))\n",
    "    print('Actual output: {} \\n'.format(test_label[i]))"
   ]
  },
  {
   "cell_type": "code",
   "execution_count": null,
   "id": "294b2ed9-2d9b-408c-9e1b-404616e76532",
   "metadata": {},
   "outputs": [],
   "source": []
  },
  {
   "cell_type": "code",
   "execution_count": null,
   "id": "fd4e7034-fea1-4d64-b8b8-078cb3370d26",
   "metadata": {},
   "outputs": [],
   "source": []
  }
 ],
 "metadata": {
  "environment": {
   "name": "tf2-gpu.2-6.m81",
   "type": "gcloud",
   "uri": "gcr.io/deeplearning-platform-release/tf2-gpu.2-6:m81"
  },
  "kernelspec": {
   "display_name": "Python 3",
   "language": "python",
   "name": "python3"
  },
  "language_info": {
   "codemirror_mode": {
    "name": "ipython",
    "version": 3
   },
   "file_extension": ".py",
   "mimetype": "text/x-python",
   "name": "python",
   "nbconvert_exporter": "python",
   "pygments_lexer": "ipython3",
   "version": "3.7.10"
  }
 },
 "nbformat": 4,
 "nbformat_minor": 5
}
