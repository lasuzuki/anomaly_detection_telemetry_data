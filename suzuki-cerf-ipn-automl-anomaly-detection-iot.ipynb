{
 "cells": [
  {
   "cell_type": "markdown",
   "id": "f1eaeb2c-d7ef-4401-a9c9-02b1765ede76",
   "metadata": {},
   "source": [
    "## AutoML Model for Anomaly Detection in IoT Data\n",
    "### By Lara Suzuki / Vint Cerf - IPNSIG"
   ]
  },
  {
   "cell_type": "markdown",
   "id": "1a64bb77-03d3-4235-9df0-3b22053e087d",
   "metadata": {},
   "source": [
    "<table class=\"tfo-notebook-buttons\" align=\"left\">\n",
    "  <td>\n",
    "    <a target=\"_blank\" href=\"https://github.com/lasuzuki\"><img src=\"https://www.tensorflow.org/images/GitHub-Mark-32px.png\" />View source on GitHub</a>\n",
    "  </td>\n",
    "</table>"
   ]
  },
  {
   "cell_type": "code",
   "execution_count": 1,
   "id": "983a9219-b888-4fe3-81c7-2f3a2bf0381b",
   "metadata": {},
   "outputs": [],
   "source": [
    "!pip install --quiet google-cloud-automl\n",
    "from google.cloud import automl_v1beta1 as automl"
   ]
  },
  {
   "cell_type": "code",
   "execution_count": 56,
   "id": "b4900a24-1595-43f3-8aa9-d7a85820dc0d",
   "metadata": {},
   "outputs": [],
   "source": [
    "project_id = 'your-project-id'\n",
    "compute_region = 'your-region'\n",
    "dataset_display_name = 'your-dataset'\n",
    "path = 'bq://your-project.your_database.your_table'\n",
    "model_display_name = 'model_display_name'\n",
    "train_budget_milli_node_hours = 2000\n",
    "include_column_spec_names = 'ts, temperature, pressure, humidity, x, y, z'\n",
    "bq_input_uri = 'bq://your-project.your_database.your_table'\n",
    "bq_output_uri = 'bq://bq://your-project.your_database.your_table_output'\n",
    "params = {}"
   ]
  },
  {
   "cell_type": "markdown",
   "id": "bdd83cce-0fc2-4bc2-af2d-1ff4a892963c",
   "metadata": {},
   "source": [
    "### Create Dataset in AutoML Tables"
   ]
  },
  {
   "cell_type": "code",
   "execution_count": 57,
   "id": "4b5ea968-4e89-425a-9fd7-177a7cb1a83c",
   "metadata": {},
   "outputs": [],
   "source": [
    "client = automl.TablesClient(project=project_id, region=compute_region)\n",
    "dataset = client.create_dataset(dataset_display_name)\n",
    "print(\"Dataset name: {}\".format(dataset.name))\n",
    "print(\"Dataset id: {}\".format(dataset.name.split(\"/\")[-1]))\n",
    "print(\"Dataset display name: {}\".format(dataset.display_name))\n",
    "print(\"Dataset metadata:\")\n",
    "print(\"\\t{}\".format(dataset.tables_dataset_metadata))\n",
    "print(\"Dataset example count: {}\".format(dataset.example_count))\n",
    "print(\"Dataset create time: {}\".format(dataset.create_time))"
   ]
  },
  {
   "cell_type": "markdown",
   "id": "b985ddaf-4c5d-43bb-b8cf-afc8c9a236b5",
   "metadata": {},
   "source": [
    "### Import Data from BigQuery to AutoML Tables"
   ]
  },
  {
   "cell_type": "code",
   "execution_count": 58,
   "id": "c85ea392-c020-4cd7-a7c4-0f04e97b743d",
   "metadata": {},
   "outputs": [],
   "source": [
    "response = None\n",
    "if path.startswith(\"bq\"):\n",
    "    response = client.import_data(\n",
    "        dataset_display_name=dataset_display_name, bigquery_input_uri=path\n",
    "    )\n",
    "else:\n",
    "    input_uris = path.split(\",\")\n",
    "    response = client.import_data(\n",
    "        dataset_display_name=dataset_display_name,\n",
    "        gcs_input_uris=input_uris,\n",
    "    )\n",
    "print(\"Processing import...\")\n",
    "print(\"Data imported. {}\".format(response.result()))"
   ]
  },
  {
   "cell_type": "markdown",
   "id": "de096cd0-4c5c-4a5f-876b-b41b50d01dd8",
   "metadata": {},
   "source": [
    "### Create and Train a Model in AutoML Tables"
   ]
  },
  {
   "cell_type": "code",
   "execution_count": 59,
   "id": "33542191-f8a0-4aef-b9fa-dae31355c79d",
   "metadata": {},
   "outputs": [
    {
     "name": "stdout",
     "output_type": "stream",
     "text": [
      "Training model...\n",
      "Training operation name: projects/746648625607/locations/us-central1/operations/TBL8549322205882744832\n",
      "Training completed: name: \"projects/746648625607/locations/us-central1/models/TBL4443520113005559808\"\n",
      "\n"
     ]
    }
   ],
   "source": [
    "client.set_target_column(dataset_display_name=dataset_display_name, column_spec_display_name='label')\n",
    "response = client.create_model(\n",
    "    model_display_name,\n",
    "    train_budget_milli_node_hours=train_budget_milli_node_hours,\n",
    "    dataset_display_name=dataset_display_name,\n",
    "    include_column_spec_names=include_column_spec_names\n",
    ")\n",
    "\n",
    "print(\"Training model...\")\n",
    "print(\"Training operation name: {}\".format(response.operation.name))\n",
    "print(\"Training completed: {}\".format(response.result()))"
   ]
  },
  {
   "cell_type": "code",
   "execution_count": 60,
   "id": "913d5a83-736c-4baf-93d1-7fe3477db31e",
   "metadata": {},
   "outputs": [],
   "source": [
    "### Get Evaluation Metrics"
   ]
  },
  {
   "cell_type": "code",
   "execution_count": null,
   "id": "b128e96d-19b3-4de2-a409-3a37efcead3b",
   "metadata": {},
   "outputs": [],
   "source": [
    "response = client.list_model_evaluations(\n",
    "    model_display_name=model_display_name, filter=filter\n",
    ")\n",
    "\n",
    "for evaluation in response:\n",
    "    if not evaluation.annotation_spec_id:\n",
    "        model_evaluation_name = evaluation.name\n",
    "        break\n",
    "\n",
    "model_evaluation = client.get_model_evaluation(\n",
    "    model_evaluation_name=model_evaluation_name\n",
    ")\n",
    "\n",
    "regression_metrics = model_evaluation.regression_evaluation_metrics\n",
    "if str(regression_metrics):\n",
    "    print(\"Model regression metrics:\")\n",
    "    print(\n",
    "        \"Model RMSE: {}\".format(regression_metrics.root_mean_squared_error)\n",
    "    )\n",
    "    print(\"Model MAE: {}\".format(regression_metrics.mean_absolute_error))\n",
    "    print(\n",
    "        \"Model MAPE: {}\".format(\n",
    "            regression_metrics.mean_absolute_percentage_error\n",
    "        )\n",
    "    )\n",
    "    print(\"Model R^2: {}\".format(regression_metrics.r_squared))"
   ]
  },
  {
   "cell_type": "code",
   "execution_count": null,
   "id": "16f9e449-93f1-4a38-8e94-a3be6370e554",
   "metadata": {},
   "outputs": [],
   "source": [
    "### Get Batch Predictions from Real Time Data Ingested into BigQuery"
   ]
  },
  {
   "cell_type": "code",
   "execution_count": null,
   "id": "5da471bb-1f89-4a86-9668-b3da49f37614",
   "metadata": {},
   "outputs": [],
   "source": [
    "response = client.batch_predict(bigquery_input_uri=bq_input_uri,\n",
    "                                bigquery_output_uri=bq_output_uri,\n",
    "                                model_display_name=model_display_name,\n",
    "                                params=params)\n",
    "print(\"Making batch prediction... \")\n",
    "response.result()\n",
    "dataset_name = response.metadata.batch_predict_details.output_info.bigquery_output_dataset\n",
    "print(\"Batch prediction complete.\\nResults are in '{}' dataset.\\n{}\".format(\n",
    "    dataset_name, response.metadata))"
   ]
  }
 ],
 "metadata": {
  "environment": {
   "name": "tf2-gpu.2-6.m81",
   "type": "gcloud",
   "uri": "gcr.io/deeplearning-platform-release/tf2-gpu.2-6:m81"
  },
  "kernelspec": {
   "display_name": "Python 3",
   "language": "python",
   "name": "python3"
  },
  "language_info": {
   "codemirror_mode": {
    "name": "ipython",
    "version": 3
   },
   "file_extension": ".py",
   "mimetype": "text/x-python",
   "name": "python",
   "nbconvert_exporter": "python",
   "pygments_lexer": "ipython3",
   "version": "3.7.10"
  }
 },
 "nbformat": 4,
 "nbformat_minor": 5
}
